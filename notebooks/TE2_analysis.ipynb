{
 "cells": [
  {
   "cell_type": "markdown",
   "id": "8f7fe327-a8c6-443f-8583-04fe3c590bc5",
   "metadata": {},
   "source": [
    "### Notebook to look at the variation in TE2 metric between release v26 and v27"
   ]
  },
  {
   "cell_type": "code",
   "id": "ac41f85c-2096-4e7f-9215-65b6d8161ac5",
   "metadata": {},
   "source": [
    "import pandas as pd\n",
    "\n",
    "import holoviews as hv\n",
    "from holoviews import opts\n",
    "from bokeh.io import output_file, output_notebook, show\n",
    "\n",
    "# Set the holoviews plotting library to be bokeh\n",
    "hv.extension('bokeh')\n",
    "\n",
    "# Display bokeh plots inline in the notebook\n",
    "output_notebook()"
   ],
   "outputs": [],
   "execution_count": null
  },
  {
   "cell_type": "code",
   "id": "d5228e81-03d2-4a53-8284-7d161d4b01e6",
   "metadata": {
    "jupyter": {
     "is_executing": true
    }
   },
   "source": [
    "# Input data manually from report\n",
    "data = {\n",
    "    'version': ['v26','v26','v26','v26','v26','v27','v27','v27','v27','v27'],\n",
    "    'band': ['g','r','i','z','y','g','r','i','z','y'],\n",
    "    'TE2': [6.4,5.1,4.7,3.2,8.8,7.0,10.0,6.7,6.1,11]\n",
    "}\n",
    "\n",
    "TE2 = pd.DataFrame(data)"
   ],
   "outputs": [],
   "execution_count": null
  },
  {
   "cell_type": "code",
   "id": "d3a19b18-7afc-44e7-bac9-713c44607af8",
   "metadata": {
    "jupyter": {
     "is_executing": true
    }
   },
   "source": [
    "bands = TE2['band'].unique()\n",
    "versions = TE2['version'].unique()"
   ],
   "outputs": [],
   "execution_count": null
  },
  {
   "cell_type": "code",
   "execution_count": null,
   "id": "1a523b09-4aea-4c46-ac45-dbeb09438ff5",
   "metadata": {},
   "outputs": [],
   "source": [
    "vdims = ['TE2'] # dependent variable\n",
    "kdims = ['version', 'band'] # independent variables\n",
    "ds = hv.Dataset(TE2, kdims, vdims) "
   ]
  },
  {
   "cell_type": "code",
   "execution_count": null,
   "id": "590d0c73-aa0f-4475-8c42-4336c83e6631",
   "metadata": {},
   "outputs": [],
   "source": [
    "grouped = ds.select(Band=bands, Version=versions).to(hv.Curve, 'version', 'TE2')\n",
    "overlay = grouped.overlay('band')\n",
    "overlay.opts(\n",
    "    opts.Curve(width=600, \n",
    "               line_width=2, line_dash='dashed',\n",
    "               tools=['hover'],\n",
    "               title='Evolution of TE2 metric between v26 and v26',\n",
    "               xlabel = 'Science Pipelines Version', \n",
    "               ylabel = 'TE2 (10^-7)', ylim = (2,12),\n",
    "               color=hv.Cycle(\n",
    "                   values=['indianred', 'slateblue', 'lightseagreen', 'coral', 'green'])))\n",
    "\n",
    "scatter = hv.Scatter(ds, 'version', 'TE2').opts(\n",
    "    color='grey', marker='circle', size=6\n",
    ")\n",
    "\n",
    "# Overlay Curve and Scatter plots\n",
    "plot = overlay * scatter\n",
    "plot.opts(legend_position='bottom_right', \n",
    "          legend_offset=(0, 200), legend_cols=1)"
   ]
  },
  {
   "cell_type": "code",
   "execution_count": null,
   "id": "54e60b19-7d85-4aa3-bb73-bba3c0c51e84",
   "metadata": {},
   "outputs": [],
   "source": []
  },
  {
   "cell_type": "code",
   "execution_count": null,
   "id": "90c3b010-2e1f-4c4c-9a58-3bd3d4d179ef",
   "metadata": {},
   "outputs": [],
   "source": [
    "layout = (ds.to(hv.Points, ['Version', 'TE2']))\n",
    "layout.opts(opts.Points(width=500, height=250, framewise=True))"
   ]
  },
  {
   "cell_type": "code",
   "execution_count": null,
   "id": "3726b4a2-2a64-468d-9b46-2e047c6a6183",
   "metadata": {},
   "outputs": [],
   "source": [
    "bands = ['g','r','i','z','y']\n",
    "grouped = ds.select(Band=bands, Version=(['v26','v27'])).to(hv.Points, ['Version', 'TE2'])\n",
    "grouped.opts(color='orange')"
   ]
  },
  {
   "cell_type": "code",
   "execution_count": null,
   "id": "77964d7c-54fb-4d1e-b7e9-be788b206ab7",
   "metadata": {},
   "outputs": [],
   "source": []
  }
 ],
 "metadata": {
  "kernelspec": {
   "display_name": "Python 3 (ipykernel)",
   "language": "python",
   "name": "python3"
  },
  "language_info": {
   "codemirror_mode": {
    "name": "ipython",
    "version": 3
   },
   "file_extension": ".py",
   "mimetype": "text/x-python",
   "name": "python",
   "nbconvert_exporter": "python",
   "pygments_lexer": "ipython3",
   "version": "3.11.7"
  }
 },
 "nbformat": 4,
 "nbformat_minor": 5
}
